{
 "cells": [
  {
   "cell_type": "code",
   "execution_count": 7,
   "id": "e0d29787",
   "metadata": {},
   "outputs": [],
   "source": [
    "from tkinter import Tk, Label\n",
    "\n",
    "window =Tk()\n",
    "window.title(\"Digital Clock\")\n",
    "window.configure(bg=\"steelblue\")\n",
    "label=Label(window,  font=(\"Arial Black\", 78, \"bold\"), bg=\"steelblue\", fg=\"white\")\n",
    "label.pack(pady=100)\n",
    "\n",
    "window.mainloop()\n"
   ]
  }
 ],
 "metadata": {
  "kernelspec": {
   "display_name": "Python 3 (ipykernel)",
   "language": "python",
   "name": "python3"
  },
  "language_info": {
   "codemirror_mode": {
    "name": "ipython",
    "version": 3
   },
   "file_extension": ".py",
   "mimetype": "text/x-python",
   "name": "python",
   "nbconvert_exporter": "python",
   "pygments_lexer": "ipython3",
   "version": "3.9.7"
  }
 },
 "nbformat": 4,
 "nbformat_minor": 5
}
